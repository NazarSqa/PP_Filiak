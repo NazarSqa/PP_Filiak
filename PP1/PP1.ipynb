{
  "nbformat": 4,
  "nbformat_minor": 0,
  "metadata": {
    "colab": {
      "name": "PP1.ipynb",
      "provenance": [],
      "collapsed_sections": []
    },
    "kernelspec": {
      "name": "python3",
      "display_name": "Python 3"
    }
  },
  "cells": [
    {
      "cell_type": "code",
      "metadata": {
        "colab": {
          "base_uri": "https://localhost:8080/"
        },
        "id": "abtT-zuPBTOF",
        "outputId": "c5be8de5-f994-4ea5-9c28-e4a25c4672c5"
      },
      "source": [
        "#Піхоцький Назар\r\n",
        "import pandas as pd\r\n",
        "import requests\r\n",
        "\r\n",
        "from tqdm import tqdm\r\n",
        "tqdm.pandas()\r\n",
        "\r\n",
        "from pandarallel import pandarallel\r\n",
        "pandarallel.initialize(progress_bar=True)"
      ],
      "execution_count": 3,
      "outputs": [
        {
          "output_type": "stream",
          "text": [
            "INFO: Pandarallel will run on 2 workers.\n",
            "INFO: Pandarallel will use Memory file system to transfer data between the main process and workers.\n"
          ],
          "name": "stdout"
        },
        {
          "output_type": "stream",
          "text": [
            "/usr/local/lib/python3.7/dist-packages/tqdm/std.py:658: FutureWarning: The Panel class is removed from pandas. Accessing it from the top-level namespace will also be removed in the next version\n",
            "  from pandas import Panel\n"
          ],
          "name": "stderr"
        }
      ]
    },
    {
      "cell_type": "code",
      "metadata": {
        "colab": {
          "base_uri": "https://localhost:8080/"
        },
        "id": "lGvYyroeFGIc",
        "outputId": "84e71d9f-b053-4dc6-c9c6-347f018463e6"
      },
      "source": [
        "df = pd.DataFrame(\r\n",
        "    [i for i in range(100)],\r\n",
        "    columns=[\"sample_column\"]\r\n",
        ")\r\n",
        "def function_to_apply(i):\r\n",
        "    r = requests.get(f'https://random-word-api.herokuapp.com/word').json()\r\n",
        "\r\n",
        "    return r[0]\r\n",
        "df[\"sample-word\"] = df.sample_column.progress_apply(function_to_apply)\r\n"
      ],
      "execution_count": 4,
      "outputs": [
        {
          "output_type": "stream",
          "text": [
            "100%|██████████| 100/100 [00:45<00:00,  2.21it/s]\n"
          ],
          "name": "stderr"
        }
      ]
    },
    {
      "cell_type": "code",
      "metadata": {
        "colab": {
          "base_uri": "https://localhost:8080/"
        },
        "id": "L88fxeJmFU9O",
        "outputId": "4879ce4a-924a-48b2-bd64-a7f45df4fe87"
      },
      "source": [
        "df[\"sample-word\"] = df.sample_column.parallel_apply(function_to_apply)\r\n",
        "import collections \r\n",
        "import multiprocessing\r\n"
      ],
      "execution_count": 5,
      "outputs": [
        {
          "output_type": "stream",
          "text": [
            "   0.00%                                          |        0 /       50 |      \n",
            "   0.00%                                          |        0 /       50 |      \b\b\b\b\b\b\b\b\b\b\b\b\b\b\b\b\b\b\b\b\b\b\b\b\b\b\b\b\b\b\b\b\b\b\b\b\b\b\b\b\b\b\b\b\b\b\b\b\b\b\b\b\b\b\b\b\b\b\b\b\b\b\b\b\b\b\b\b\b\b\b\b\b\b\b\b\b\b\b\u001bM   2.00%                                          |        1 /       50 |      \n",
            "   0.00%                                          |        0 /       50 |      \b\b\b\b\b\b\b\b\b\b\b\b\b\b\b\b\b\b\b\b\b\b\b\b\b\b\b\b\b\b\b\b\b\b\b\b\b\b\b\b\b\b\b\b\b\b\b\b\b\b\b\b\b\b\b\b\b\b\b\b\b\b\b\b\b\b\b\b\b\b\b\b\b\b\b\b\b\b\b\u001bM   4.00% :                                        |        2 /       50 |      \n",
            "   2.00%                                          |        1 /       50 |      \b\b\b\b\b\b\b\b\b\b\b\b\b\b\b\b\b\b\b\b\b\b\b\b\b\b\b\b\b\b\b\b\b\b\b\b\b\b\b\b\b\b\b\b\b\b\b\b\b\b\b\b\b\b\b\b\b\b\b\b\b\b\b\b\b\b\b\b\b\b\b\b\b\b\b\b\b\b\b\u001bM   4.00% :                                        |        2 /       50 |      \n",
            "   6.00% ::                                       |        3 /       50 |      \b\b\b\b\b\b\b\b\b\b\b\b\b\b\b\b\b\b\b\b\b\b\b\b\b\b\b\b\b\b\b\b\b\b\b\b\b\b\b\b\b\b\b\b\b\b\b\b\b\b\b\b\b\b\b\b\b\b\b\b\b\b\b\b\b\b\b\b\b\b\b\b\b\b\b\b\b\b\b\u001bM   8.00% :::                                      |        4 /       50 |      \n",
            "   6.00% ::                                       |        3 /       50 |      \b\b\b\b\b\b\b\b\b\b\b\b\b\b\b\b\b\b\b\b\b\b\b\b\b\b\b\b\b\b\b\b\b\b\b\b\b\b\b\b\b\b\b\b\b\b\b\b\b\b\b\b\b\b\b\b\b\b\b\b\b\b\b\b\b\b\b\b\b\b\b\b\b\b\b\b\b\b\b\u001bM  10.00% ::::                                     |        5 /       50 |      \n",
            "   8.00% :::                                      |        4 /       50 |      \b\b\b\b\b\b\b\b\b\b\b\b\b\b\b\b\b\b\b\b\b\b\b\b\b\b\b\b\b\b\b\b\b\b\b\b\b\b\b\b\b\b\b\b\b\b\b\b\b\b\b\b\b\b\b\b\b\b\b\b\b\b\b\b\b\b\b\b\b\b\b\b\b\b\b\b\b\b\b\u001bM  10.00% ::::                                     |        5 /       50 |      \n",
            "  12.00% ::::                                     |        6 /       50 |      \b\b\b\b\b\b\b\b\b\b\b\b\b\b\b\b\b\b\b\b\b\b\b\b\b\b\b\b\b\b\b\b\b\b\b\b\b\b\b\b\b\b\b\b\b\b\b\b\b\b\b\b\b\b\b\b\b\b\b\b\b\b\b\b\b\b\b\b\b\b\b\b\b\b\b\b\b\b\b\u001bM  12.00% ::::                                     |        6 /       50 |      \n",
            "  14.00% :::::                                    |        7 /       50 |      \b\b\b\b\b\b\b\b\b\b\b\b\b\b\b\b\b\b\b\b\b\b\b\b\b\b\b\b\b\b\b\b\b\b\b\b\b\b\b\b\b\b\b\b\b\b\b\b\b\b\b\b\b\b\b\b\b\b\b\b\b\b\b\b\b\b\b\b\b\b\b\b\b\b\b\b\b\b\b\u001bM  14.00% :::::                                    |        7 /       50 |      \n",
            "  16.00% ::::::                                   |        8 /       50 |      \b\b\b\b\b\b\b\b\b\b\b\b\b\b\b\b\b\b\b\b\b\b\b\b\b\b\b\b\b\b\b\b\b\b\b\b\b\b\b\b\b\b\b\b\b\b\b\b\b\b\b\b\b\b\b\b\b\b\b\b\b\b\b\b\b\b\b\b\b\b\b\b\b\b\b\b\b\b\b\u001bM  16.00% ::::::                                   |        8 /       50 |      \n",
            "  18.00% :::::::                                  |        9 /       50 |      \b\b\b\b\b\b\b\b\b\b\b\b\b\b\b\b\b\b\b\b\b\b\b\b\b\b\b\b\b\b\b\b\b\b\b\b\b\b\b\b\b\b\b\b\b\b\b\b\b\b\b\b\b\b\b\b\b\b\b\b\b\b\b\b\b\b\b\b\b\b\b\b\b\b\b\b\b\b\b\u001bM  18.00% :::::::                                  |        9 /       50 |      \n",
            "  20.00% ::::::::                                 |       10 /       50 |      \b\b\b\b\b\b\b\b\b\b\b\b\b\b\b\b\b\b\b\b\b\b\b\b\b\b\b\b\b\b\b\b\b\b\b\b\b\b\b\b\b\b\b\b\b\b\b\b\b\b\b\b\b\b\b\b\b\b\b\b\b\b\b\b\b\b\b\b\b\b\b\b\b\b\b\b\b\b\b\u001bM  20.00% ::::::::                                 |       10 /       50 |      \n",
            "  22.00% ::::::::                                 |       11 /       50 |      \b\b\b\b\b\b\b\b\b\b\b\b\b\b\b\b\b\b\b\b\b\b\b\b\b\b\b\b\b\b\b\b\b\b\b\b\b\b\b\b\b\b\b\b\b\b\b\b\b\b\b\b\b\b\b\b\b\b\b\b\b\b\b\b\b\b\b\b\b\b\b\b\b\b\b\b\b\b\b\u001bM  22.00% ::::::::                                 |       11 /       50 |      \n",
            "  24.00% :::::::::                                |       12 /       50 |      \b\b\b\b\b\b\b\b\b\b\b\b\b\b\b\b\b\b\b\b\b\b\b\b\b\b\b\b\b\b\b\b\b\b\b\b\b\b\b\b\b\b\b\b\b\b\b\b\b\b\b\b\b\b\b\b\b\b\b\b\b\b\b\b\b\b\b\b\b\b\b\b\b\b\b\b\b\b\b\u001bM  26.00% ::::::::::                               |       13 /       50 |      \n",
            "  24.00% :::::::::                                |       12 /       50 |      \b\b\b\b\b\b\b\b\b\b\b\b\b\b\b\b\b\b\b\b\b\b\b\b\b\b\b\b\b\b\b\b\b\b\b\b\b\b\b\b\b\b\b\b\b\b\b\b\b\b\b\b\b\b\b\b\b\b\b\b\b\b\b\b\b\b\b\b\b\b\b\b\b\b\b\b\b\b\b\u001bM  28.00% :::::::::::                              |       14 /       50 |      \n",
            "  26.00% ::::::::::                               |       13 /       50 |      \b\b\b\b\b\b\b\b\b\b\b\b\b\b\b\b\b\b\b\b\b\b\b\b\b\b\b\b\b\b\b\b\b\b\b\b\b\b\b\b\b\b\b\b\b\b\b\b\b\b\b\b\b\b\b\b\b\b\b\b\b\b\b\b\b\b\b\b\b\b\b\b\b\b\b\b\b\b\b\u001bM  30.00% ::::::::::::                             |       15 /       50 |      \n",
            "  28.00% :::::::::::                              |       14 /       50 |      \b\b\b\b\b\b\b\b\b\b\b\b\b\b\b\b\b\b\b\b\b\b\b\b\b\b\b\b\b\b\b\b\b\b\b\b\b\b\b\b\b\b\b\b\b\b\b\b\b\b\b\b\b\b\b\b\b\b\b\b\b\b\b\b\b\b\b\b\b\b\b\b\b\b\b\b\b\b\b\u001bM  32.00% ::::::::::::                             |       16 /       50 |      \n",
            "  30.00% ::::::::::::                             |       15 /       50 |      \b\b\b\b\b\b\b\b\b\b\b\b\b\b\b\b\b\b\b\b\b\b\b\b\b\b\b\b\b\b\b\b\b\b\b\b\b\b\b\b\b\b\b\b\b\b\b\b\b\b\b\b\b\b\b\b\b\b\b\b\b\b\b\b\b\b\b\b\b\b\b\b\b\b\b\b\b\b\b\u001bM  32.00% ::::::::::::                             |       16 /       50 |      \n",
            "  34.00% :::::::::::::                            |       17 /       50 |      \b\b\b\b\b\b\b\b\b\b\b\b\b\b\b\b\b\b\b\b\b\b\b\b\b\b\b\b\b\b\b\b\b\b\b\b\b\b\b\b\b\b\b\b\b\b\b\b\b\b\b\b\b\b\b\b\b\b\b\b\b\b\b\b\b\b\b\b\b\b\b\b\b\b\b\b\b\b\b\u001bM  36.00% ::::::::::::::                           |       18 /       50 |      \n",
            "  34.00% :::::::::::::                            |       17 /       50 |      \b\b\b\b\b\b\b\b\b\b\b\b\b\b\b\b\b\b\b\b\b\b\b\b\b\b\b\b\b\b\b\b\b\b\b\b\b\b\b\b\b\b\b\b\b\b\b\b\b\b\b\b\b\b\b\b\b\b\b\b\b\b\b\b\b\b\b\b\b\b\b\b\b\b\b\b\b\b\b\u001bM  36.00% ::::::::::::::                           |       18 /       50 |      \n",
            "  38.00% :::::::::::::::                          |       19 /       50 |      \b\b\b\b\b\b\b\b\b\b\b\b\b\b\b\b\b\b\b\b\b\b\b\b\b\b\b\b\b\b\b\b\b\b\b\b\b\b\b\b\b\b\b\b\b\b\b\b\b\b\b\b\b\b\b\b\b\b\b\b\b\b\b\b\b\b\b\b\b\b\b\b\b\b\b\b\b\b\b\u001bM  38.00% :::::::::::::::                          |       19 /       50 |      \n",
            "  40.00% ::::::::::::::::                         |       20 /       50 |      \b\b\b\b\b\b\b\b\b\b\b\b\b\b\b\b\b\b\b\b\b\b\b\b\b\b\b\b\b\b\b\b\b\b\b\b\b\b\b\b\b\b\b\b\b\b\b\b\b\b\b\b\b\b\b\b\b\b\b\b\b\b\b\b\b\b\b\b\b\b\b\b\b\b\b\b\b\b\b\u001bM  42.00% ::::::::::::::::                         |       21 /       50 |      \n",
            "  40.00% ::::::::::::::::                         |       20 /       50 |      \b\b\b\b\b\b\b\b\b\b\b\b\b\b\b\b\b\b\b\b\b\b\b\b\b\b\b\b\b\b\b\b\b\b\b\b\b\b\b\b\b\b\b\b\b\b\b\b\b\b\b\b\b\b\b\b\b\b\b\b\b\b\b\b\b\b\b\b\b\b\b\b\b\b\b\b\b\b\b\u001bM  44.00% :::::::::::::::::                        |       22 /       50 |      \n",
            "  42.00% ::::::::::::::::                         |       21 /       50 |      \b\b\b\b\b\b\b\b\b\b\b\b\b\b\b\b\b\b\b\b\b\b\b\b\b\b\b\b\b\b\b\b\b\b\b\b\b\b\b\b\b\b\b\b\b\b\b\b\b\b\b\b\b\b\b\b\b\b\b\b\b\b\b\b\b\b\b\b\b\b\b\b\b\b\b\b\b\b\b\u001bM  46.00% ::::::::::::::::::                       |       23 /       50 |      \n",
            "  44.00% :::::::::::::::::                        |       22 /       50 |      \b\b\b\b\b\b\b\b\b\b\b\b\b\b\b\b\b\b\b\b\b\b\b\b\b\b\b\b\b\b\b\b\b\b\b\b\b\b\b\b\b\b\b\b\b\b\b\b\b\b\b\b\b\b\b\b\b\b\b\b\b\b\b\b\b\b\b\b\b\b\b\b\b\b\b\b\b\b\b\u001bM  46.00% ::::::::::::::::::                       |       23 /       50 |      \n",
            "  48.00% :::::::::::::::::::                      |       24 /       50 |      \b\b\b\b\b\b\b\b\b\b\b\b\b\b\b\b\b\b\b\b\b\b\b\b\b\b\b\b\b\b\b\b\b\b\b\b\b\b\b\b\b\b\b\b\b\b\b\b\b\b\b\b\b\b\b\b\b\b\b\b\b\b\b\b\b\b\b\b\b\b\b\b\b\b\b\b\b\b\b\u001bM  48.00% :::::::::::::::::::                      |       24 /       50 |      \n",
            "  50.00% ::::::::::::::::::::                     |       25 /       50 |      \b\b\b\b\b\b\b\b\b\b\b\b\b\b\b\b\b\b\b\b\b\b\b\b\b\b\b\b\b\b\b\b\b\b\b\b\b\b\b\b\b\b\b\b\b\b\b\b\b\b\b\b\b\b\b\b\b\b\b\b\b\b\b\b\b\b\b\b\b\b\b\b\b\b\b\b\b\b\b\u001bM  52.00% ::::::::::::::::::::                     |       26 /       50 |      \n",
            "  50.00% ::::::::::::::::::::                     |       25 /       50 |      \b\b\b\b\b\b\b\b\b\b\b\b\b\b\b\b\b\b\b\b\b\b\b\b\b\b\b\b\b\b\b\b\b\b\b\b\b\b\b\b\b\b\b\b\b\b\b\b\b\b\b\b\b\b\b\b\b\b\b\b\b\b\b\b\b\b\b\b\b\b\b\b\b\b\b\b\b\b\b\u001bM  54.00% :::::::::::::::::::::                    |       27 /       50 |      \n",
            "  52.00% ::::::::::::::::::::                     |       26 /       50 |      \b\b\b\b\b\b\b\b\b\b\b\b\b\b\b\b\b\b\b\b\b\b\b\b\b\b\b\b\b\b\b\b\b\b\b\b\b\b\b\b\b\b\b\b\b\b\b\b\b\b\b\b\b\b\b\b\b\b\b\b\b\b\b\b\b\b\b\b\b\b\b\b\b\b\b\b\b\b\b\u001bM  56.00% ::::::::::::::::::::::                   |       28 /       50 |      \n",
            "  54.00% :::::::::::::::::::::                    |       27 /       50 |      \b\b\b\b\b\b\b\b\b\b\b\b\b\b\b\b\b\b\b\b\b\b\b\b\b\b\b\b\b\b\b\b\b\b\b\b\b\b\b\b\b\b\b\b\b\b\b\b\b\b\b\b\b\b\b\b\b\b\b\b\b\b\b\b\b\b\b\b\b\b\b\b\b\b\b\b\b\b\b\u001bM  56.00% ::::::::::::::::::::::                   |       28 /       50 |      \n",
            "  58.00% :::::::::::::::::::::::                  |       29 /       50 |      \b\b\b\b\b\b\b\b\b\b\b\b\b\b\b\b\b\b\b\b\b\b\b\b\b\b\b\b\b\b\b\b\b\b\b\b\b\b\b\b\b\b\b\b\b\b\b\b\b\b\b\b\b\b\b\b\b\b\b\b\b\b\b\b\b\b\b\b\b\b\b\b\b\b\b\b\b\b\b\u001bM  60.00% ::::::::::::::::::::::::                 |       30 /       50 |      \n",
            "  58.00% :::::::::::::::::::::::                  |       29 /       50 |      \b\b\b\b\b\b\b\b\b\b\b\b\b\b\b\b\b\b\b\b\b\b\b\b\b\b\b\b\b\b\b\b\b\b\b\b\b\b\b\b\b\b\b\b\b\b\b\b\b\b\b\b\b\b\b\b\b\b\b\b\b\b\b\b\b\b\b\b\b\b\b\b\b\b\b\b\b\b\b\u001bM  62.00% ::::::::::::::::::::::::                 |       31 /       50 |      \n",
            "  60.00% ::::::::::::::::::::::::                 |       30 /       50 |      \b\b\b\b\b\b\b\b\b\b\b\b\b\b\b\b\b\b\b\b\b\b\b\b\b\b\b\b\b\b\b\b\b\b\b\b\b\b\b\b\b\b\b\b\b\b\b\b\b\b\b\b\b\b\b\b\b\b\b\b\b\b\b\b\b\b\b\b\b\b\b\b\b\b\b\b\b\b\b\u001bM  64.00% :::::::::::::::::::::::::                |       32 /       50 |      \n",
            "  62.00% ::::::::::::::::::::::::                 |       31 /       50 |      \b\b\b\b\b\b\b\b\b\b\b\b\b\b\b\b\b\b\b\b\b\b\b\b\b\b\b\b\b\b\b\b\b\b\b\b\b\b\b\b\b\b\b\b\b\b\b\b\b\b\b\b\b\b\b\b\b\b\b\b\b\b\b\b\b\b\b\b\b\b\b\b\b\b\b\b\b\b\b\u001bM  66.00% ::::::::::::::::::::::::::               |       33 /       50 |      \n",
            "  64.00% :::::::::::::::::::::::::                |       32 /       50 |      \b\b\b\b\b\b\b\b\b\b\b\b\b\b\b\b\b\b\b\b\b\b\b\b\b\b\b\b\b\b\b\b\b\b\b\b\b\b\b\b\b\b\b\b\b\b\b\b\b\b\b\b\b\b\b\b\b\b\b\b\b\b\b\b\b\b\b\b\b\b\b\b\b\b\b\b\b\b\b\u001bM  68.00% :::::::::::::::::::::::::::              |       34 /       50 |      \n",
            "  66.00% ::::::::::::::::::::::::::               |       33 /       50 |      \b\b\b\b\b\b\b\b\b\b\b\b\b\b\b\b\b\b\b\b\b\b\b\b\b\b\b\b\b\b\b\b\b\b\b\b\b\b\b\b\b\b\b\b\b\b\b\b\b\b\b\b\b\b\b\b\b\b\b\b\b\b\b\b\b\b\b\b\b\b\b\b\b\b\b\b\b\b\b\u001bM  70.00% ::::::::::::::::::::::::::::             |       35 /       50 |      \n",
            "  68.00% :::::::::::::::::::::::::::              |       34 /       50 |      \b\b\b\b\b\b\b\b\b\b\b\b\b\b\b\b\b\b\b\b\b\b\b\b\b\b\b\b\b\b\b\b\b\b\b\b\b\b\b\b\b\b\b\b\b\b\b\b\b\b\b\b\b\b\b\b\b\b\b\b\b\b\b\b\b\b\b\b\b\b\b\b\b\b\b\b\b\b\b\u001bM  70.00% ::::::::::::::::::::::::::::             |       35 /       50 |      \n",
            "  72.00% ::::::::::::::::::::::::::::             |       36 /       50 |      \b\b\b\b\b\b\b\b\b\b\b\b\b\b\b\b\b\b\b\b\b\b\b\b\b\b\b\b\b\b\b\b\b\b\b\b\b\b\b\b\b\b\b\b\b\b\b\b\b\b\b\b\b\b\b\b\b\b\b\b\b\b\b\b\b\b\b\b\b\b\b\b\b\b\b\b\b\b\b\u001bM  72.00% ::::::::::::::::::::::::::::             |       36 /       50 |      \n",
            "  74.00% :::::::::::::::::::::::::::::            |       37 /       50 |      \b\b\b\b\b\b\b\b\b\b\b\b\b\b\b\b\b\b\b\b\b\b\b\b\b\b\b\b\b\b\b\b\b\b\b\b\b\b\b\b\b\b\b\b\b\b\b\b\b\b\b\b\b\b\b\b\b\b\b\b\b\b\b\b\b\b\b\b\b\b\b\b\b\b\b\b\b\b\b\u001bM  74.00% :::::::::::::::::::::::::::::            |       37 /       50 |      \n",
            "  76.00% ::::::::::::::::::::::::::::::           |       38 /       50 |      \b\b\b\b\b\b\b\b\b\b\b\b\b\b\b\b\b\b\b\b\b\b\b\b\b\b\b\b\b\b\b\b\b\b\b\b\b\b\b\b\b\b\b\b\b\b\b\b\b\b\b\b\b\b\b\b\b\b\b\b\b\b\b\b\b\b\b\b\b\b\b\b\b\b\b\b\b\b\b\u001bM  76.00% ::::::::::::::::::::::::::::::           |       38 /       50 |      \n",
            "  78.00% :::::::::::::::::::::::::::::::          |       39 /       50 |      \b\b\b\b\b\b\b\b\b\b\b\b\b\b\b\b\b\b\b\b\b\b\b\b\b\b\b\b\b\b\b\b\b\b\b\b\b\b\b\b\b\b\b\b\b\b\b\b\b\b\b\b\b\b\b\b\b\b\b\b\b\b\b\b\b\b\b\b\b\b\b\b\b\b\b\b\b\b\b\u001bM  78.00% :::::::::::::::::::::::::::::::          |       39 /       50 |      \n",
            "  80.00% ::::::::::::::::::::::::::::::::         |       40 /       50 |      \b\b\b\b\b\b\b\b\b\b\b\b\b\b\b\b\b\b\b\b\b\b\b\b\b\b\b\b\b\b\b\b\b\b\b\b\b\b\b\b\b\b\b\b\b\b\b\b\b\b\b\b\b\b\b\b\b\b\b\b\b\b\b\b\b\b\b\b\b\b\b\b\b\b\b\b\b\b\b\u001bM  80.00% ::::::::::::::::::::::::::::::::         |       40 /       50 |      \n",
            "  82.00% ::::::::::::::::::::::::::::::::         |       41 /       50 |      \b\b\b\b\b\b\b\b\b\b\b\b\b\b\b\b\b\b\b\b\b\b\b\b\b\b\b\b\b\b\b\b\b\b\b\b\b\b\b\b\b\b\b\b\b\b\b\b\b\b\b\b\b\b\b\b\b\b\b\b\b\b\b\b\b\b\b\b\b\b\b\b\b\b\b\b\b\b\b\u001bM  82.00% ::::::::::::::::::::::::::::::::         |       41 /       50 |      \n",
            "  84.00% :::::::::::::::::::::::::::::::::        |       42 /       50 |      \b\b\b\b\b\b\b\b\b\b\b\b\b\b\b\b\b\b\b\b\b\b\b\b\b\b\b\b\b\b\b\b\b\b\b\b\b\b\b\b\b\b\b\b\b\b\b\b\b\b\b\b\b\b\b\b\b\b\b\b\b\b\b\b\b\b\b\b\b\b\b\b\b\b\b\b\b\b\b\u001bM  84.00% :::::::::::::::::::::::::::::::::        |       42 /       50 |      \n",
            "  86.00% ::::::::::::::::::::::::::::::::::       |       43 /       50 |      \b\b\b\b\b\b\b\b\b\b\b\b\b\b\b\b\b\b\b\b\b\b\b\b\b\b\b\b\b\b\b\b\b\b\b\b\b\b\b\b\b\b\b\b\b\b\b\b\b\b\b\b\b\b\b\b\b\b\b\b\b\b\b\b\b\b\b\b\b\b\b\b\b\b\b\b\b\b\b\u001bM  86.00% ::::::::::::::::::::::::::::::::::       |       43 /       50 |      \n",
            "  88.00% :::::::::::::::::::::::::::::::::::      |       44 /       50 |      \b\b\b\b\b\b\b\b\b\b\b\b\b\b\b\b\b\b\b\b\b\b\b\b\b\b\b\b\b\b\b\b\b\b\b\b\b\b\b\b\b\b\b\b\b\b\b\b\b\b\b\b\b\b\b\b\b\b\b\b\b\b\b\b\b\b\b\b\b\b\b\b\b\b\b\b\b\b\b\u001bM  88.00% :::::::::::::::::::::::::::::::::::      |       44 /       50 |      \n",
            "  90.00% ::::::::::::::::::::::::::::::::::::     |       45 /       50 |      \b\b\b\b\b\b\b\b\b\b\b\b\b\b\b\b\b\b\b\b\b\b\b\b\b\b\b\b\b\b\b\b\b\b\b\b\b\b\b\b\b\b\b\b\b\b\b\b\b\b\b\b\b\b\b\b\b\b\b\b\b\b\b\b\b\b\b\b\b\b\b\b\b\b\b\b\b\b\b\u001bM  90.00% ::::::::::::::::::::::::::::::::::::     |       45 /       50 |      \n",
            "  92.00% ::::::::::::::::::::::::::::::::::::     |       46 /       50 |      \b\b\b\b\b\b\b\b\b\b\b\b\b\b\b\b\b\b\b\b\b\b\b\b\b\b\b\b\b\b\b\b\b\b\b\b\b\b\b\b\b\b\b\b\b\b\b\b\b\b\b\b\b\b\b\b\b\b\b\b\b\b\b\b\b\b\b\b\b\b\b\b\b\b\b\b\b\b\b\u001bM  92.00% ::::::::::::::::::::::::::::::::::::     |       46 /       50 |      \n",
            "  94.00% :::::::::::::::::::::::::::::::::::::    |       47 /       50 |      \b\b\b\b\b\b\b\b\b\b\b\b\b\b\b\b\b\b\b\b\b\b\b\b\b\b\b\b\b\b\b\b\b\b\b\b\b\b\b\b\b\b\b\b\b\b\b\b\b\b\b\b\b\b\b\b\b\b\b\b\b\b\b\b\b\b\b\b\b\b\b\b\b\b\b\b\b\b\b\u001bM  94.00% :::::::::::::::::::::::::::::::::::::    |       47 /       50 |      \n",
            "  96.00% ::::::::::::::::::::::::::::::::::::::   |       48 /       50 |      \b\b\b\b\b\b\b\b\b\b\b\b\b\b\b\b\b\b\b\b\b\b\b\b\b\b\b\b\b\b\b\b\b\b\b\b\b\b\b\b\b\b\b\b\b\b\b\b\b\b\b\b\b\b\b\b\b\b\b\b\b\b\b\b\b\b\b\b\b\b\b\b\b\b\b\b\b\b\b\u001bM  96.00% ::::::::::::::::::::::::::::::::::::::   |       48 /       50 |      \n",
            "  98.00% :::::::::::::::::::::::::::::::::::::::  |       49 /       50 |      \b\b\b\b\b\b\b\b\b\b\b\b\b\b\b\b\b\b\b\b\b\b\b\b\b\b\b\b\b\b\b\b\b\b\b\b\b\b\b\b\b\b\b\b\b\b\b\b\b\b\b\b\b\b\b\b\b\b\b\b\b\b\b\b\b\b\b\b\b\b\b\b\b\b\b\b\b\b\b\u001bM  98.00% :::::::::::::::::::::::::::::::::::::::  |       49 /       50 |      \n",
            " 100.00% :::::::::::::::::::::::::::::::::::::::: |       50 /       50 |      \b\b\b\b\b\b\b\b\b\b\b\b\b\b\b\b\b\b\b\b\b\b\b\b\b\b\b\b\b\b\b\b\b\b\b\b\b\b\b\b\b\b\b\b\b\b\b\b\b\b\b\b\b\b\b\b\b\b\b\b\b\b\b\b\b\b\b\b\b\b\b\b\b\b\b\b\b\b\b\u001bM 100.00% :::::::::::::::::::::::::::::::::::::::: |       50 /       50 |      \n",
            " 100.00% :::::::::::::::::::::::::::::::::::::::: |       50 /       50 |      "
          ],
          "name": "stdout"
        }
      ]
    },
    {
      "cell_type": "code",
      "metadata": {
        "id": "etMwd3pCFg-Z"
      },
      "source": [
        "Scientist = collections.namedtuple('Scientist', [   'name',   'born',])\r\n",
        "\r\n",
        "scientists = (Scientist(name='Ada Lovelace', born=1815),\r\n",
        "                    Scientist(name='Emmy Noether', born=1882),\r\n",
        "                    Scientist(name='Marie Curie', born=1867),\r\n",
        "                    Scientist(name='Tu Youyou', born=1930),\r\n",
        "                    Scientist(name='Ada Yonath', born=1939),\r\n",
        "                    Scientist(name='Vera Rubin', born=1928),\r\n",
        "                    Scientist(name='Sally Ride', born=1951),)\r\n",
        "def process_item(item):\r\n",
        "     return {'name': item.name, 'age': 2200 - item.born   }\r\n",
        "     "
      ],
      "execution_count": 7,
      "outputs": []
    },
    {
      "cell_type": "code",
      "metadata": {
        "colab": {
          "base_uri": "https://localhost:8080/"
        },
        "id": "0SIzyOQmF2eU",
        "outputId": "c74e7be1-95c2-4dd6-bbdb-3a16504383f8"
      },
      "source": [
        "pool = multiprocessing.Pool()\r\n",
        "result = pool.map(process_item, scientists)\r\n",
        "print(tuple(result))"
      ],
      "execution_count": 8,
      "outputs": [
        {
          "output_type": "stream",
          "text": [
            "({'name': 'Ada Lovelace', 'age': 385}, {'name': 'Emmy Noether', 'age': 318}, {'name': 'Marie Curie', 'age': 333}, {'name': 'Tu Youyou', 'age': 270}, {'name': 'Ada Yonath', 'age': 261}, {'name': 'Vera Rubin', 'age': 272}, {'name': 'Sally Ride', 'age': 249})\n"
          ],
          "name": "stdout"
        }
      ]
    },
    {
      "cell_type": "code",
      "metadata": {
        "colab": {
          "base_uri": "https://localhost:8080/"
        },
        "id": "JDBk8YEYE45b",
        "outputId": "06a2111e-d68d-490a-ff05-7a12d8ebe8d2"
      },
      "source": [
        "! pip install pandarallel\r\n"
      ],
      "execution_count": 2,
      "outputs": [
        {
          "output_type": "stream",
          "text": [
            "Collecting pandarallel\n",
            "  Downloading https://files.pythonhosted.org/packages/f9/c9/2350222cec65593ab5f2f00f2e57dfd1fa4e697dbe92fcaff641485354e6/pandarallel-1.5.2.tar.gz\n",
            "Requirement already satisfied: dill in /usr/local/lib/python3.7/dist-packages (from pandarallel) (0.3.3)\n",
            "Building wheels for collected packages: pandarallel\n",
            "  Building wheel for pandarallel (setup.py) ... \u001b[?25l\u001b[?25hdone\n",
            "  Created wheel for pandarallel: filename=pandarallel-1.5.2-cp37-none-any.whl size=18386 sha256=985628ef37bf2770b383eee48029e590964c3714d5036c8cb79e2eaa5becbd43\n",
            "  Stored in directory: /root/.cache/pip/wheels/40/80/6d/d50fb72a8ce6a923fb10390fec9eaaa40b02d07a7ec05c9c05\n",
            "Successfully built pandarallel\n",
            "Installing collected packages: pandarallel\n",
            "Successfully installed pandarallel-1.5.2\n"
          ],
          "name": "stdout"
        }
      ]
    }
  ]
}